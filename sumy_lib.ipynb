{
  "nbformat": 4,
  "nbformat_minor": 0,
  "metadata": {
    "colab": {
      "provenance": [],
      "authorship_tag": "ABX9TyPFFW6tJZ6cRq99Uz4ssMsv",
      "include_colab_link": true
    },
    "kernelspec": {
      "name": "python3",
      "display_name": "Python 3"
    },
    "language_info": {
      "name": "python"
    }
  },
  "cells": [
    {
      "cell_type": "markdown",
      "metadata": {
        "id": "view-in-github",
        "colab_type": "text"
      },
      "source": [
        "<a href=\"https://colab.research.google.com/github/sohamk1112/AbstractiveTextSummarizer/blob/main/sumy_lib.ipynb\" target=\"_parent\"><img src=\"https://colab.research.google.com/assets/colab-badge.svg\" alt=\"Open In Colab\"/></a>"
      ]
    },
    {
      "cell_type": "code",
      "execution_count": null,
      "metadata": {
        "colab": {
          "base_uri": "https://localhost:8080/"
        },
        "id": "3fZbypuiQmd4",
        "outputId": "0aa5516f-31fa-4b32-a613-4f868134c496"
      },
      "outputs": [
        {
          "output_type": "stream",
          "name": "stdout",
          "text": [
            "Collecting sumy\n",
            "  Downloading sumy-0.11.0-py2.py3-none-any.whl (97 kB)\n",
            "\u001b[2K     \u001b[90m━━━━━━━━━━━━━━━━━━━━━━━━━━━━━━━━━━━━━━━━\u001b[0m \u001b[32m97.3/97.3 kB\u001b[0m \u001b[31m1.9 MB/s\u001b[0m eta \u001b[36m0:00:00\u001b[0m\n",
            "\u001b[?25hCollecting docopt<0.7,>=0.6.1 (from sumy)\n",
            "  Downloading docopt-0.6.2.tar.gz (25 kB)\n",
            "  Preparing metadata (setup.py) ... \u001b[?25l\u001b[?25hdone\n",
            "Collecting breadability>=0.1.20 (from sumy)\n",
            "  Downloading breadability-0.1.20.tar.gz (32 kB)\n",
            "  Preparing metadata (setup.py) ... \u001b[?25l\u001b[?25hdone\n",
            "Requirement already satisfied: requests>=2.7.0 in /usr/local/lib/python3.10/dist-packages (from sumy) (2.31.0)\n",
            "Collecting pycountry>=18.2.23 (from sumy)\n",
            "  Downloading pycountry-23.12.11-py3-none-any.whl (6.2 MB)\n",
            "\u001b[2K     \u001b[90m━━━━━━━━━━━━━━━━━━━━━━━━━━━━━━━━━━━━━━━━\u001b[0m \u001b[32m6.2/6.2 MB\u001b[0m \u001b[31m50.7 MB/s\u001b[0m eta \u001b[36m0:00:00\u001b[0m\n",
            "\u001b[?25hRequirement already satisfied: nltk>=3.0.2 in /usr/local/lib/python3.10/dist-packages (from sumy) (3.8.1)\n",
            "Requirement already satisfied: chardet in /usr/local/lib/python3.10/dist-packages (from breadability>=0.1.20->sumy) (5.2.0)\n",
            "Requirement already satisfied: lxml>=2.0 in /usr/local/lib/python3.10/dist-packages (from breadability>=0.1.20->sumy) (4.9.4)\n",
            "Requirement already satisfied: click in /usr/local/lib/python3.10/dist-packages (from nltk>=3.0.2->sumy) (8.1.7)\n",
            "Requirement already satisfied: joblib in /usr/local/lib/python3.10/dist-packages (from nltk>=3.0.2->sumy) (1.4.0)\n",
            "Requirement already satisfied: regex>=2021.8.3 in /usr/local/lib/python3.10/dist-packages (from nltk>=3.0.2->sumy) (2023.12.25)\n",
            "Requirement already satisfied: tqdm in /usr/local/lib/python3.10/dist-packages (from nltk>=3.0.2->sumy) (4.66.2)\n",
            "Requirement already satisfied: charset-normalizer<4,>=2 in /usr/local/lib/python3.10/dist-packages (from requests>=2.7.0->sumy) (3.3.2)\n",
            "Requirement already satisfied: idna<4,>=2.5 in /usr/local/lib/python3.10/dist-packages (from requests>=2.7.0->sumy) (3.7)\n",
            "Requirement already satisfied: urllib3<3,>=1.21.1 in /usr/local/lib/python3.10/dist-packages (from requests>=2.7.0->sumy) (2.0.7)\n",
            "Requirement already satisfied: certifi>=2017.4.17 in /usr/local/lib/python3.10/dist-packages (from requests>=2.7.0->sumy) (2024.2.2)\n",
            "Building wheels for collected packages: breadability, docopt\n",
            "  Building wheel for breadability (setup.py) ... \u001b[?25l\u001b[?25hdone\n",
            "  Created wheel for breadability: filename=breadability-0.1.20-py2.py3-none-any.whl size=21693 sha256=28375c529f39a5b45633e72e5a859ede84f0ed0210070f34126216afd242a537\n",
            "  Stored in directory: /root/.cache/pip/wheels/64/22/90/b84fcc30e16598db20a0d41340616dbf9b1e82bbcc627b0b33\n",
            "  Building wheel for docopt (setup.py) ... \u001b[?25l\u001b[?25hdone\n",
            "  Created wheel for docopt: filename=docopt-0.6.2-py2.py3-none-any.whl size=13706 sha256=3959e3f0cab95079d40ccc3e8acfded1a9cb07ae584be121bb466211ca0bbc19\n",
            "  Stored in directory: /root/.cache/pip/wheels/fc/ab/d4/5da2067ac95b36618c629a5f93f809425700506f72c9732fac\n",
            "Successfully built breadability docopt\n",
            "Installing collected packages: docopt, pycountry, breadability, sumy\n",
            "Successfully installed breadability-0.1.20 docopt-0.6.2 pycountry-23.12.11 sumy-0.11.0\n"
          ]
        }
      ],
      "source": [
        "!pip install sumy"
      ]
    },
    {
      "cell_type": "code",
      "source": [
        "from sumy.summarizers.lex_rank import LexRankSummarizer\n",
        "from sumy.parsers.plaintext import PlaintextParser\n",
        "from sumy.nlp.tokenizers import Tokenizer # we can use nltk.tokenize import word_tokenize also"
      ],
      "metadata": {
        "id": "yh5MPnJrQ_jI"
      },
      "execution_count": null,
      "outputs": []
    },
    {
      "cell_type": "code",
      "source": [
        "import nltk\n",
        "nltk.download('punkt')"
      ],
      "metadata": {
        "colab": {
          "base_uri": "https://localhost:8080/"
        },
        "id": "IV28uCSdQ_j7",
        "outputId": "7f790be9-f3b2-4495-bb1a-75d89b366ad7"
      },
      "execution_count": null,
      "outputs": [
        {
          "output_type": "stream",
          "name": "stderr",
          "text": [
            "[nltk_data] Downloading package punkt to /root/nltk_data...\n",
            "[nltk_data]   Unzipping tokenizers/punkt.zip.\n"
          ]
        },
        {
          "output_type": "execute_result",
          "data": {
            "text/plain": [
              "True"
            ]
          },
          "metadata": {},
          "execution_count": 5
        }
      ]
    },
    {
      "cell_type": "code",
      "source": [
        "text = \"\"\"\n",
        "Artificial Intelligence (AI) is a multidisciplinary field of computer science and engineering that seeks to create intelligent systems capable of mimicking human cognitive functions. At its core, AI is the science of developing algorithms, models, and systems that can perform tasks that typically require human intelligence. These tasks encompass a wide range of activities, from problem-solving and decision-making to understanding natural language, recognizing patterns, and learning from data.\n",
        "\n",
        "One of the foundational principles of AI is the concept of machine learning, wherein AI systems can improve their performance on a specific task through exposure to data and experience, rather than relying solely on explicit programming. Machine learning algorithms enable AI systems to identify patterns, make predictions, and adapt to changing conditions, making them incredibly versatile and applicable across various domains.\n",
        "\n",
        "AI can be categorized into two broad types:\n",
        "\n",
        "Narrow or Weak AI: This type of AI is designed to excel at specific tasks or domains. Examples include voice assistants like Siri or recommendation systems on streaming platforms. While they may seem intelligent within their specialized scope, they lack general intelligence and self-awareness.\n",
        "\n",
        "General or Strong AI: This represents the aspiration of creating AI systems with human-level intelligence and cognitive abilities. General AI would possess the capacity to understand, learn, and adapt across a wide range of tasks and contexts, similar to human intelligence. Achieving true general AI remains a long-term goal and a subject of ongoing research.\n",
        "\n",
        "AI technologies encompass a diverse set of techniques and approaches, including neural networks, natural language processing, computer vision, robotics, and reinforcement learning, among others. These tools find applications across numerous sectors, such as healthcare (diagnosis and treatment optimization), finance (algorithmic trading and fraud detection), transportation (autonomous vehicles), and entertainment (video game AI and content recommendation).\n",
        "\n",
        "While AI holds immense promise, it also raises ethical and societal questions related to privacy, bias, transparency, and the potential impact on the workforce. As AI continues to advance, it is crucial to ensure responsible development and deployment, guided by ethical principles and a commitment to harnessing its potential for the betterment of society. In essence, AI represents a powerful and transformative force in the modern world, with the potential to reshape industries, improve efficiency, and enhance our understanding of intelligence and cognition.\n",
        "\"\"\""
      ],
      "metadata": {
        "id": "QY8L2J5qQ_ol"
      },
      "execution_count": null,
      "outputs": []
    },
    {
      "cell_type": "code",
      "source": [
        "text = text.lower() # converted to lower case so that capital are considered to be same as small letter\n",
        "parser = PlaintextParser.from_string(text, Tokenizer('english'))"
      ],
      "metadata": {
        "id": "ptf0Yd9IQ_pQ"
      },
      "execution_count": null,
      "outputs": []
    },
    {
      "cell_type": "code",
      "source": [
        "summarizer_lex = LexRankSummarizer() # creating object of class"
      ],
      "metadata": {
        "id": "skNuqUBwQ_ua"
      },
      "execution_count": null,
      "outputs": []
    },
    {
      "cell_type": "code",
      "source": [
        "summary = summarizer_lex(parser.document,2)"
      ],
      "metadata": {
        "id": "BlHXn1gmQ_vF"
      },
      "execution_count": null,
      "outputs": []
    },
    {
      "cell_type": "code",
      "source": [
        "for sentence in summary:\n",
        "  print(sentence)"
      ],
      "metadata": {
        "colab": {
          "base_uri": "https://localhost:8080/"
        },
        "id": "bUWdvUuQQ_zv",
        "outputId": "48c64304-dd76-4b33-fd00-856c36e1d907"
      },
      "execution_count": null,
      "outputs": [
        {
          "output_type": "stream",
          "name": "stdout",
          "text": [
            "at its core, ai is the science of developing algorithms, models, and systems that can perform tasks that typically require human intelligence.\n",
            "these tasks encompass a wide range of activities, from problem-solving and decision-making to understanding natural language, recognizing patterns, and learning from data.\n"
          ]
        }
      ]
    },
    {
      "cell_type": "code",
      "source": [
        "from sumy.summarizers.lsa import LsaSummarizer\n",
        "las_summarizer = LsaSummarizer()\n",
        "summary = las_summarizer(parser.document, 2)\n",
        "for sentence in summary:\n",
        "  print(sentence)"
      ],
      "metadata": {
        "colab": {
          "base_uri": "https://localhost:8080/"
        },
        "id": "RnXH1rKcSLsA",
        "outputId": "897eda35-0c89-4177-eadc-fc302c80b6ed"
      },
      "execution_count": null,
      "outputs": [
        {
          "output_type": "stream",
          "name": "stdout",
          "text": [
            "machine learning algorithms enable ai systems to identify patterns, make predictions, and adapt to changing conditions, making them incredibly versatile and applicable across various domains.\n",
            "examples include voice assistants like siri or recommendation systems on streaming platforms.\n"
          ]
        }
      ]
    },
    {
      "cell_type": "code",
      "source": [
        "from sumy.summarizers.text_rank import TextRankSummarizer\n",
        "textrank_summarizer = TextRankSummarizer()\n",
        "summary = textrank_summarizer(parser.document, 2)\n",
        "for sentence in summary:\n",
        "  print(sentence)"
      ],
      "metadata": {
        "colab": {
          "base_uri": "https://localhost:8080/"
        },
        "id": "AVU2W-I7SLsx",
        "outputId": "b4434c40-4c8f-48f5-87f0-5ddaed35bc64"
      },
      "execution_count": null,
      "outputs": [
        {
          "output_type": "stream",
          "name": "stdout",
          "text": [
            "one of the foundational principles of ai is the concept of machine learning, wherein ai systems can improve their performance on a specific task through exposure to data and experience, rather than relying solely on explicit programming.\n",
            "in essence, ai represents a powerful and transformative force in the modern world, with the potential to reshape industries, improve efficiency, and enhance our understanding of intelligence and cognition.\n"
          ]
        }
      ]
    },
    {
      "cell_type": "code",
      "source": [
        "#LexRank summarization that is based ranking,\n",
        "#Luhn based on frequency of most important words\n",
        "#TextRank summary that is based on text ranking"
      ],
      "metadata": {
        "id": "6PtU-dC5SLxh"
      },
      "execution_count": null,
      "outputs": []
    },
    {
      "cell_type": "markdown",
      "source": [
        "LexRank summarization that is based on ranking (ROUGE SCORE) & (BLEU SCORE)"
      ],
      "metadata": {
        "id": "ELWjztzR1bqk"
      }
    },
    {
      "cell_type": "code",
      "source": [
        "from nltk.translate.bleu_score import corpus_bleu\n",
        "from nltk.translate.bleu_score import SmoothingFunction\n",
        "from rouge import Rouge\n",
        "\n",
        "# Example of reference and generated summaries\n",
        "reference_summary = [\"Artificial Intelligence (AI) is a multidisciplinary field aiming to create intelligent systems mimicking human cognitive functions, driven by machine learning. It holds promise for transforming industries but raises ethical concerns regarding privacy and workforce impact.\"]\n",
        "generated_summary = [\"at its core, ai is the science of developing algorithms, models, and systems that can perform tasks that typically require human intelligence. these tasks encompass a wide range of activities, from problem-solving and decision-making to understanding natural language, recognizing patterns, and learning from data\"]\n",
        "\n",
        "# Initialize ROUGE object\n",
        "rouge = Rouge()\n",
        "\n",
        "# Calculate ROUGE scores\n",
        "scores = rouge.get_scores(generated_summary, reference_summary)\n",
        "\n",
        "# Print ROUGE scores\n",
        "print(\"ROUGE Scores:\")\n",
        "print(scores)\n"
      ],
      "metadata": {
        "id": "WtD3TzhhSLyT",
        "colab": {
          "base_uri": "https://localhost:8080/"
        },
        "outputId": "4ce498eb-2873-4c4c-ba56-2f1e2a11fb1b"
      },
      "execution_count": null,
      "outputs": [
        {
          "output_type": "stream",
          "name": "stdout",
          "text": [
            "ROUGE Scores:\n",
            "[{'rouge-1': {'r': 0.2, 'p': 0.18421052631578946, 'f': 0.1917808169262527}, 'rouge-2': {'r': 0.0, 'p': 0.0, 'f': 0.0}, 'rouge-l': {'r': 0.2, 'p': 0.18421052631578946, 'f': 0.1917808169262527}}]\n"
          ]
        }
      ]
    },
    {
      "cell_type": "code",
      "source": [
        "#LexRank\n",
        "from nltk.translate.bleu_score import corpus_bleu, SmoothingFunction\n",
        "\n",
        "# Example of reference and generated summaries\n",
        "reference_summary = [[\"Artificial Intelligence (AI) is a multidisciplinary field aiming to create intelligent systems mimicking human cognitive functions, driven by machine learning. It holds promise for transforming industries but raises ethical concerns regarding privacy and workforce impact.\"]]\n",
        "generated_summary = [\"at its core, ai is the science of developing algorithms, models, and systems that can perform tasks that typically require human intelligence. these tasks encompass a wide range of activities, from problem-solving and decision-making to understanding natural language, recognizing patterns, and learning from data.\"]\n",
        "\n",
        "# Smoothie method to handle short reference length\n",
        "smoothie = SmoothingFunction().method1\n",
        "\n",
        "# Calculate BLEU score\n",
        "bleu_score = corpus_bleu(reference_summary, generated_summary, smoothing_function=smoothie)\n",
        "\n",
        "# Print BLEU score\n",
        "print(\"BLEU Score:\", bleu_score)\n"
      ],
      "metadata": {
        "id": "bsgF501VSL2f",
        "colab": {
          "base_uri": "https://localhost:8080/"
        },
        "outputId": "b2424c5a-3a86-4828-c391-93450af7f082"
      },
      "execution_count": null,
      "outputs": [
        {
          "output_type": "stream",
          "name": "stdout",
          "text": [
            "BLEU Score: 0.35920727240525174\n"
          ]
        }
      ]
    },
    {
      "cell_type": "markdown",
      "source": [
        "Luhn based on frequency of most important words ROGUE score and BLEU score"
      ],
      "metadata": {
        "id": "cTdyKC1y1xsg"
      }
    },
    {
      "cell_type": "code",
      "source": [
        "from nltk.translate.bleu_score import corpus_bleu\n",
        "from nltk.translate.bleu_score import SmoothingFunction\n",
        "from rouge import Rouge\n",
        "\n",
        "# Example of reference and generated summaries\n",
        "reference_summary = [\"Artificial Intelligence (AI) is a multidisciplinary field aiming to create intelligent systems mimicking human cognitive functions, driven by machine learning. It holds promise for transforming industries but raises ethical concerns regarding privacy and workforce impact.\"]\n",
        "generated_summary = [\"machine learning algorithms enable ai systems to identify patterns, make predictions, and adapt to changing conditions, making them incredibly versatile and applicable across various domains. examples include voice assistants like siri or recommendation systems on streaming platforms.\"]\n",
        "\n",
        "# Initialize ROUGE object\n",
        "rouge = Rouge()\n",
        "\n",
        "# Calculate ROUGE scores\n",
        "scores = rouge.get_scores(generated_summary, reference_summary)\n",
        "\n",
        "# Print ROUGE scores\n",
        "print(\"ROUGE Scores:\")\n",
        "print(scores)"
      ],
      "metadata": {
        "id": "HisteuuDSL3Q",
        "colab": {
          "base_uri": "https://localhost:8080/"
        },
        "outputId": "7faf938c-a754-45c6-e15f-6f581a1a4507"
      },
      "execution_count": null,
      "outputs": [
        {
          "output_type": "stream",
          "name": "stdout",
          "text": [
            "ROUGE Scores:\n",
            "[{'rouge-1': {'r': 0.14285714285714285, 'p': 0.14705882352941177, 'f': 0.14492753123293445}, 'rouge-2': {'r': 0.029411764705882353, 'p': 0.027777777777777776, 'f': 0.028571423575511075}, 'rouge-l': {'r': 0.11428571428571428, 'p': 0.11764705882352941, 'f': 0.11594202398655765}}]\n"
          ]
        }
      ]
    },
    {
      "cell_type": "code",
      "source": [
        "from nltk.translate.bleu_score import corpus_bleu, SmoothingFunction\n",
        "\n",
        "# Example of reference and generated summaries\n",
        "reference_summary = [[\"Artificial Intelligence (AI) is a multidisciplinary field aiming to create intelligent systems mimicking human cognitive functions, driven by machine learning. It holds promise for transforming industries but raises ethical concerns regarding privacy and workforce impact.\"]]\n",
        "generated_summary = [\"machine learning algorithms enable ai systems to identify patterns, make predictions, and adapt to changing conditions, making them incredibly versatile and applicable across various domains. examples include voice assistants like siri or recommendation systems on streaming platforms.\"]\n",
        "\n",
        "# Smoothie method to handle short reference length\n",
        "smoothie = SmoothingFunction().method1\n",
        "\n",
        "# Calculate BLEU score\n",
        "bleu_score = corpus_bleu(reference_summary, generated_summary, smoothing_function=smoothie)\n",
        "\n",
        "# Print BLEU score\n",
        "print(\"BLEU Score:\", bleu_score)"
      ],
      "metadata": {
        "id": "4fOv3PwSSL77",
        "colab": {
          "base_uri": "https://localhost:8080/"
        },
        "outputId": "edf88d0b-f89e-422c-b6a4-6ce07dc45f39"
      },
      "execution_count": null,
      "outputs": [
        {
          "output_type": "stream",
          "name": "stdout",
          "text": [
            "BLEU Score: 0.35225870088365513\n"
          ]
        }
      ]
    },
    {
      "cell_type": "markdown",
      "source": [
        "TextRank summary that is based on text ranking"
      ],
      "metadata": {
        "id": "mOIvBuzx3fHi"
      }
    },
    {
      "cell_type": "code",
      "source": [
        "from nltk.translate.bleu_score import corpus_bleu\n",
        "from nltk.translate.bleu_score import SmoothingFunction\n",
        "from rouge import Rouge\n",
        "\n",
        "# Example of reference and generated summaries\n",
        "reference_summary = [\"Artificial Intelligence (AI) is a multidisciplinary field aiming to create intelligent systems mimicking human cognitive functions, driven by machine learning. It holds promise for transforming industries but raises ethical concerns regarding privacy and workforce impact.\"]\n",
        "generated_summary = [\"one of the foundational principles of ai is the concept of machine learning, wherein ai systems can improve their performance on a specific task through exposure to data and experience, rather than relying solely on explicit programming. in essence, ai represents a powerful and transformative force in the modern world, with the potential to reshape industries, improve efficiency, and enhance our understanding of intelligence and cognition.\"]\n",
        "\n",
        "# Initialize ROUGE object\n",
        "rouge = Rouge()\n",
        "\n",
        "# Calculate ROUGE scores\n",
        "scores = rouge.get_scores(generated_summary, reference_summary)\n",
        "\n",
        "# Print ROUGE scores\n",
        "print(\"ROUGE Scores:\")\n",
        "print(scores)"
      ],
      "metadata": {
        "colab": {
          "base_uri": "https://localhost:8080/"
        },
        "id": "5QRM1pr63kcj",
        "outputId": "f094fd6d-70f7-4161-b5a3-e7771c0220c4"
      },
      "execution_count": null,
      "outputs": [
        {
          "output_type": "stream",
          "name": "stdout",
          "text": [
            "ROUGE Scores:\n",
            "[{'rouge-1': {'r': 0.17142857142857143, 'p': 0.12, 'f': 0.1411764657439448}, 'rouge-2': {'r': 0.0, 'p': 0.0, 'f': 0.0}, 'rouge-l': {'r': 0.11428571428571428, 'p': 0.08, 'f': 0.09411764221453313}}]\n"
          ]
        }
      ]
    },
    {
      "cell_type": "code",
      "source": [
        "from nltk.translate.bleu_score import corpus_bleu, SmoothingFunction\n",
        "\n",
        "# Example of reference and generated summaries\n",
        "reference_summary = [[\"Artificial Intelligence (AI) is a multidisciplinary field aiming to create intelligent systems mimicking human cognitive functions, driven by machine learning. It holds promise for transforming industries but raises ethical concerns regarding privacy and workforce impact.\"]]\n",
        "generated_summary = [\"one of the foundational principles of ai is the concept of machine learning, wherein ai systems can improve their performance on a specific task through exposure to data and experience, rather than relying solely on explicit programming. in essence, ai represents a powerful and transformative force in the modern world, with the potential to reshape industries, improve efficiency, and enhance our understanding of intelligence and cognition.\"]\n",
        "\n",
        "# Smoothie method to handle short reference length\n",
        "smoothie = SmoothingFunction().method1\n",
        "\n",
        "# Calculate BLEU score\n",
        "bleu_score = corpus_bleu(reference_summary, generated_summary, smoothing_function=smoothie)\n",
        "\n",
        "# Print BLEU score\n",
        "print(\"BLEU Score:\", bleu_score)"
      ],
      "metadata": {
        "colab": {
          "base_uri": "https://localhost:8080/"
        },
        "id": "PW10u_r_3tLH",
        "outputId": "6fbd030f-5de7-4ef0-e8dd-7a0d44e097be"
      },
      "execution_count": null,
      "outputs": [
        {
          "output_type": "stream",
          "name": "stdout",
          "text": [
            "BLEU Score: 0.3403842942221011\n"
          ]
        }
      ]
    }
  ]
}